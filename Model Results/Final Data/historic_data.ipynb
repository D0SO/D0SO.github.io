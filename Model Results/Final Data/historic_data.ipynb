{
 "metadata": {
  "language_info": {
   "codemirror_mode": {
    "name": "ipython",
    "version": 3
   },
   "file_extension": ".py",
   "mimetype": "text/x-python",
   "name": "python",
   "nbconvert_exporter": "python",
   "pygments_lexer": "ipython3",
   "version": "3.7.9-final"
  },
  "orig_nbformat": 2,
  "kernelspec": {
   "name": "python3",
   "display_name": "Python 3.7.9 64-bit ('class_31': conda)",
   "metadata": {
    "interpreter": {
     "hash": "0c3f5e7de5f9586eb5159fd70f9aa7771bff1a4ed3c9bd59d922e2f541b32d04"
    }
   }
  }
 },
 "nbformat": 4,
 "nbformat_minor": 2,
 "cells": [
  {
   "cell_type": "code",
   "execution_count": 1,
   "metadata": {},
   "outputs": [],
   "source": [
    "# Dependencies\n",
    "# ----------------------------------\n",
    "# Imports the method used for connecting to DBs\n",
    "from sqlalchemy import create_engine\n",
    "\n",
    "# Imports the methods needed to abstract classes into tables\n",
    "from sqlalchemy.ext.declarative import declarative_base\n",
    "\n",
    "# Allow us to declare column types\n",
    "from sqlalchemy import Column, Integer, String, Float \n",
    "\n",
    "from sqlalchemy.orm import Session\n",
    "\n",
    "\n",
    "import pandas as pd"
   ]
  },
  {
   "cell_type": "code",
   "execution_count": 2,
   "metadata": {},
   "outputs": [
    {
     "output_type": "execute_result",
     "data": {
      "text/plain": [
       "       Unnamed: 0        Date   XAU_USD  GOL_Returns_Rolling_Std      Date.1  \\\n",
       "49             49  1980-03-07 -5.361305                 4.873833  1980-03-11   \n",
       "50             50  1980-03-10 -3.940887                 4.910922  1980-03-12   \n",
       "51             51  1980-03-11 -2.521368                 4.927854  1980-03-13   \n",
       "52             52  1980-03-12  2.709338                 4.767652  1980-03-14   \n",
       "53             53  1980-03-13 -4.985487                 4.431216  1980-03-17   \n",
       "...           ...         ...       ...                      ...         ...   \n",
       "10113       10113  2019-01-08 -0.257630                 0.543166  2020-06-24   \n",
       "10114       10114  2019-01-09  0.605283                 0.540868  2020-06-25   \n",
       "10115       10115  2019-01-10 -0.521989                 0.535107  2020-06-26   \n",
       "10116       10116  2019-01-11  0.125935                 0.494200  2020-06-29   \n",
       "10117       10117  2019-01-14  0.289596                 0.494719  2020-06-30   \n",
       "\n",
       "       Bonds_10year  BON_Returns_Rolling_Std      Date.2  NASDAQ_100  \\\n",
       "49        -1.741884                 1.569822  1980-03-10   -1.669062   \n",
       "50         1.692184                 1.576323  1980-03-11    0.563477   \n",
       "51        -0.950872                 1.579285  1980-03-12    0.048428   \n",
       "52         0.160000                 1.569203  1980-03-13    0.241991   \n",
       "53         0.479233                 1.567011  1980-03-14   -0.372461   \n",
       "...             ...                      ...         ...         ...   \n",
       "10113     -3.526093                 6.808957  2020-02-06    0.667503   \n",
       "10114     -1.461988                 6.451171  2020-02-07   -0.539488   \n",
       "10115     -5.637982                 6.469783  2020-02-10    1.133131   \n",
       "10116      0.000000                 6.388195  2020-02-11    0.109580   \n",
       "10117      2.672956                 6.365580  2020-02-12    0.902791   \n",
       "\n",
       "       NAS_Returns_Rolling_Std      Date.3  NIKKEI_225  \\\n",
       "49                    0.900962  1980-03-14   -0.166408   \n",
       "50                    0.903056  1980-03-17   -0.466220   \n",
       "51                    0.902312  1980-03-18    0.236944   \n",
       "52                    0.861473  1980-03-19    0.099568   \n",
       "53                    0.837425  1980-03-20    0.000000   \n",
       "...                        ...         ...         ...   \n",
       "10113                 0.761316  2021-02-08    2.117191   \n",
       "10114                 0.752599  2021-02-09    0.399577   \n",
       "10115                 0.764095  2021-02-10    0.193182   \n",
       "10116                 0.761532  2021-02-12   -0.144977   \n",
       "10117                 0.761637  2021-02-15    1.910836   \n",
       "\n",
       "       NIK_Returns_Rolling_Std  \n",
       "49                    0.530828  \n",
       "50                    0.527977  \n",
       "51                    0.528628  \n",
       "52                    0.528492  \n",
       "53                    0.528044  \n",
       "...                        ...  \n",
       "10113                 0.959234  \n",
       "10114                 0.958767  \n",
       "10115                 0.953750  \n",
       "10116                 0.954752  \n",
       "10117                 0.973216  \n",
       "\n",
       "[10069 rows x 13 columns]"
      ],
      "text/html": "<div>\n<style scoped>\n    .dataframe tbody tr th:only-of-type {\n        vertical-align: middle;\n    }\n\n    .dataframe tbody tr th {\n        vertical-align: top;\n    }\n\n    .dataframe thead th {\n        text-align: right;\n    }\n</style>\n<table border=\"1\" class=\"dataframe\">\n  <thead>\n    <tr style=\"text-align: right;\">\n      <th></th>\n      <th>Unnamed: 0</th>\n      <th>Date</th>\n      <th>XAU_USD</th>\n      <th>GOL_Returns_Rolling_Std</th>\n      <th>Date.1</th>\n      <th>Bonds_10year</th>\n      <th>BON_Returns_Rolling_Std</th>\n      <th>Date.2</th>\n      <th>NASDAQ_100</th>\n      <th>NAS_Returns_Rolling_Std</th>\n      <th>Date.3</th>\n      <th>NIKKEI_225</th>\n      <th>NIK_Returns_Rolling_Std</th>\n    </tr>\n  </thead>\n  <tbody>\n    <tr>\n      <th>49</th>\n      <td>49</td>\n      <td>1980-03-07</td>\n      <td>-5.361305</td>\n      <td>4.873833</td>\n      <td>1980-03-11</td>\n      <td>-1.741884</td>\n      <td>1.569822</td>\n      <td>1980-03-10</td>\n      <td>-1.669062</td>\n      <td>0.900962</td>\n      <td>1980-03-14</td>\n      <td>-0.166408</td>\n      <td>0.530828</td>\n    </tr>\n    <tr>\n      <th>50</th>\n      <td>50</td>\n      <td>1980-03-10</td>\n      <td>-3.940887</td>\n      <td>4.910922</td>\n      <td>1980-03-12</td>\n      <td>1.692184</td>\n      <td>1.576323</td>\n      <td>1980-03-11</td>\n      <td>0.563477</td>\n      <td>0.903056</td>\n      <td>1980-03-17</td>\n      <td>-0.466220</td>\n      <td>0.527977</td>\n    </tr>\n    <tr>\n      <th>51</th>\n      <td>51</td>\n      <td>1980-03-11</td>\n      <td>-2.521368</td>\n      <td>4.927854</td>\n      <td>1980-03-13</td>\n      <td>-0.950872</td>\n      <td>1.579285</td>\n      <td>1980-03-12</td>\n      <td>0.048428</td>\n      <td>0.902312</td>\n      <td>1980-03-18</td>\n      <td>0.236944</td>\n      <td>0.528628</td>\n    </tr>\n    <tr>\n      <th>52</th>\n      <td>52</td>\n      <td>1980-03-12</td>\n      <td>2.709338</td>\n      <td>4.767652</td>\n      <td>1980-03-14</td>\n      <td>0.160000</td>\n      <td>1.569203</td>\n      <td>1980-03-13</td>\n      <td>0.241991</td>\n      <td>0.861473</td>\n      <td>1980-03-19</td>\n      <td>0.099568</td>\n      <td>0.528492</td>\n    </tr>\n    <tr>\n      <th>53</th>\n      <td>53</td>\n      <td>1980-03-13</td>\n      <td>-4.985487</td>\n      <td>4.431216</td>\n      <td>1980-03-17</td>\n      <td>0.479233</td>\n      <td>1.567011</td>\n      <td>1980-03-14</td>\n      <td>-0.372461</td>\n      <td>0.837425</td>\n      <td>1980-03-20</td>\n      <td>0.000000</td>\n      <td>0.528044</td>\n    </tr>\n    <tr>\n      <th>...</th>\n      <td>...</td>\n      <td>...</td>\n      <td>...</td>\n      <td>...</td>\n      <td>...</td>\n      <td>...</td>\n      <td>...</td>\n      <td>...</td>\n      <td>...</td>\n      <td>...</td>\n      <td>...</td>\n      <td>...</td>\n      <td>...</td>\n    </tr>\n    <tr>\n      <th>10113</th>\n      <td>10113</td>\n      <td>2019-01-08</td>\n      <td>-0.257630</td>\n      <td>0.543166</td>\n      <td>2020-06-24</td>\n      <td>-3.526093</td>\n      <td>6.808957</td>\n      <td>2020-02-06</td>\n      <td>0.667503</td>\n      <td>0.761316</td>\n      <td>2021-02-08</td>\n      <td>2.117191</td>\n      <td>0.959234</td>\n    </tr>\n    <tr>\n      <th>10114</th>\n      <td>10114</td>\n      <td>2019-01-09</td>\n      <td>0.605283</td>\n      <td>0.540868</td>\n      <td>2020-06-25</td>\n      <td>-1.461988</td>\n      <td>6.451171</td>\n      <td>2020-02-07</td>\n      <td>-0.539488</td>\n      <td>0.752599</td>\n      <td>2021-02-09</td>\n      <td>0.399577</td>\n      <td>0.958767</td>\n    </tr>\n    <tr>\n      <th>10115</th>\n      <td>10115</td>\n      <td>2019-01-10</td>\n      <td>-0.521989</td>\n      <td>0.535107</td>\n      <td>2020-06-26</td>\n      <td>-5.637982</td>\n      <td>6.469783</td>\n      <td>2020-02-10</td>\n      <td>1.133131</td>\n      <td>0.764095</td>\n      <td>2021-02-10</td>\n      <td>0.193182</td>\n      <td>0.953750</td>\n    </tr>\n    <tr>\n      <th>10116</th>\n      <td>10116</td>\n      <td>2019-01-11</td>\n      <td>0.125935</td>\n      <td>0.494200</td>\n      <td>2020-06-29</td>\n      <td>0.000000</td>\n      <td>6.388195</td>\n      <td>2020-02-11</td>\n      <td>0.109580</td>\n      <td>0.761532</td>\n      <td>2021-02-12</td>\n      <td>-0.144977</td>\n      <td>0.954752</td>\n    </tr>\n    <tr>\n      <th>10117</th>\n      <td>10117</td>\n      <td>2019-01-14</td>\n      <td>0.289596</td>\n      <td>0.494719</td>\n      <td>2020-06-30</td>\n      <td>2.672956</td>\n      <td>6.365580</td>\n      <td>2020-02-12</td>\n      <td>0.902791</td>\n      <td>0.761637</td>\n      <td>2021-02-15</td>\n      <td>1.910836</td>\n      <td>0.973216</td>\n    </tr>\n  </tbody>\n</table>\n<p>10069 rows × 13 columns</p>\n</div>"
     },
     "metadata": {},
     "execution_count": 2
    }
   ],
   "source": [
    "path_to_bonds_value_csv = \"Merge Std.csv\"\n",
    "merge_data  = pd.read_csv(path_to_bonds_value_csv)\n",
    "\n",
    "merge_data = merge_data.dropna()\n",
    "merge_data"
   ]
  },
  {
   "cell_type": "code",
   "execution_count": 3,
   "metadata": {},
   "outputs": [
    {
     "output_type": "execute_result",
     "data": {
      "text/plain": [
       "             Date   XAU_USD  GOL_Returns_Rolling_Std  Bonds_10year  \\\n",
       "49     1980-03-07 -5.361305                 4.873833     -1.741884   \n",
       "50     1980-03-10 -3.940887                 4.910922      1.692184   \n",
       "51     1980-03-11 -2.521368                 4.927854     -0.950872   \n",
       "52     1980-03-12  2.709338                 4.767652      0.160000   \n",
       "53     1980-03-13 -4.985487                 4.431216      0.479233   \n",
       "...           ...       ...                      ...           ...   \n",
       "10113  2019-01-08 -0.257630                 0.543166     -3.526093   \n",
       "10114  2019-01-09  0.605283                 0.540868     -1.461988   \n",
       "10115  2019-01-10 -0.521989                 0.535107     -5.637982   \n",
       "10116  2019-01-11  0.125935                 0.494200      0.000000   \n",
       "10117  2019-01-14  0.289596                 0.494719      2.672956   \n",
       "\n",
       "       BON_Returns_Rolling_Std  NASDAQ_100  NAS_Returns_Rolling_Std  \\\n",
       "49                    1.569822   -1.669062                 0.900962   \n",
       "50                    1.576323    0.563477                 0.903056   \n",
       "51                    1.579285    0.048428                 0.902312   \n",
       "52                    1.569203    0.241991                 0.861473   \n",
       "53                    1.567011   -0.372461                 0.837425   \n",
       "...                        ...         ...                      ...   \n",
       "10113                 6.808957    0.667503                 0.761316   \n",
       "10114                 6.451171   -0.539488                 0.752599   \n",
       "10115                 6.469783    1.133131                 0.764095   \n",
       "10116                 6.388195    0.109580                 0.761532   \n",
       "10117                 6.365580    0.902791                 0.761637   \n",
       "\n",
       "       NIKKEI_225  NIK_Returns_Rolling_Std  \n",
       "49      -0.166408                 0.530828  \n",
       "50      -0.466220                 0.527977  \n",
       "51       0.236944                 0.528628  \n",
       "52       0.099568                 0.528492  \n",
       "53       0.000000                 0.528044  \n",
       "...           ...                      ...  \n",
       "10113    2.117191                 0.959234  \n",
       "10114    0.399577                 0.958767  \n",
       "10115    0.193182                 0.953750  \n",
       "10116   -0.144977                 0.954752  \n",
       "10117    1.910836                 0.973216  \n",
       "\n",
       "[10069 rows x 9 columns]"
      ],
      "text/html": "<div>\n<style scoped>\n    .dataframe tbody tr th:only-of-type {\n        vertical-align: middle;\n    }\n\n    .dataframe tbody tr th {\n        vertical-align: top;\n    }\n\n    .dataframe thead th {\n        text-align: right;\n    }\n</style>\n<table border=\"1\" class=\"dataframe\">\n  <thead>\n    <tr style=\"text-align: right;\">\n      <th></th>\n      <th>Date</th>\n      <th>XAU_USD</th>\n      <th>GOL_Returns_Rolling_Std</th>\n      <th>Bonds_10year</th>\n      <th>BON_Returns_Rolling_Std</th>\n      <th>NASDAQ_100</th>\n      <th>NAS_Returns_Rolling_Std</th>\n      <th>NIKKEI_225</th>\n      <th>NIK_Returns_Rolling_Std</th>\n    </tr>\n  </thead>\n  <tbody>\n    <tr>\n      <th>49</th>\n      <td>1980-03-07</td>\n      <td>-5.361305</td>\n      <td>4.873833</td>\n      <td>-1.741884</td>\n      <td>1.569822</td>\n      <td>-1.669062</td>\n      <td>0.900962</td>\n      <td>-0.166408</td>\n      <td>0.530828</td>\n    </tr>\n    <tr>\n      <th>50</th>\n      <td>1980-03-10</td>\n      <td>-3.940887</td>\n      <td>4.910922</td>\n      <td>1.692184</td>\n      <td>1.576323</td>\n      <td>0.563477</td>\n      <td>0.903056</td>\n      <td>-0.466220</td>\n      <td>0.527977</td>\n    </tr>\n    <tr>\n      <th>51</th>\n      <td>1980-03-11</td>\n      <td>-2.521368</td>\n      <td>4.927854</td>\n      <td>-0.950872</td>\n      <td>1.579285</td>\n      <td>0.048428</td>\n      <td>0.902312</td>\n      <td>0.236944</td>\n      <td>0.528628</td>\n    </tr>\n    <tr>\n      <th>52</th>\n      <td>1980-03-12</td>\n      <td>2.709338</td>\n      <td>4.767652</td>\n      <td>0.160000</td>\n      <td>1.569203</td>\n      <td>0.241991</td>\n      <td>0.861473</td>\n      <td>0.099568</td>\n      <td>0.528492</td>\n    </tr>\n    <tr>\n      <th>53</th>\n      <td>1980-03-13</td>\n      <td>-4.985487</td>\n      <td>4.431216</td>\n      <td>0.479233</td>\n      <td>1.567011</td>\n      <td>-0.372461</td>\n      <td>0.837425</td>\n      <td>0.000000</td>\n      <td>0.528044</td>\n    </tr>\n    <tr>\n      <th>...</th>\n      <td>...</td>\n      <td>...</td>\n      <td>...</td>\n      <td>...</td>\n      <td>...</td>\n      <td>...</td>\n      <td>...</td>\n      <td>...</td>\n      <td>...</td>\n    </tr>\n    <tr>\n      <th>10113</th>\n      <td>2019-01-08</td>\n      <td>-0.257630</td>\n      <td>0.543166</td>\n      <td>-3.526093</td>\n      <td>6.808957</td>\n      <td>0.667503</td>\n      <td>0.761316</td>\n      <td>2.117191</td>\n      <td>0.959234</td>\n    </tr>\n    <tr>\n      <th>10114</th>\n      <td>2019-01-09</td>\n      <td>0.605283</td>\n      <td>0.540868</td>\n      <td>-1.461988</td>\n      <td>6.451171</td>\n      <td>-0.539488</td>\n      <td>0.752599</td>\n      <td>0.399577</td>\n      <td>0.958767</td>\n    </tr>\n    <tr>\n      <th>10115</th>\n      <td>2019-01-10</td>\n      <td>-0.521989</td>\n      <td>0.535107</td>\n      <td>-5.637982</td>\n      <td>6.469783</td>\n      <td>1.133131</td>\n      <td>0.764095</td>\n      <td>0.193182</td>\n      <td>0.953750</td>\n    </tr>\n    <tr>\n      <th>10116</th>\n      <td>2019-01-11</td>\n      <td>0.125935</td>\n      <td>0.494200</td>\n      <td>0.000000</td>\n      <td>6.388195</td>\n      <td>0.109580</td>\n      <td>0.761532</td>\n      <td>-0.144977</td>\n      <td>0.954752</td>\n    </tr>\n    <tr>\n      <th>10117</th>\n      <td>2019-01-14</td>\n      <td>0.289596</td>\n      <td>0.494719</td>\n      <td>2.672956</td>\n      <td>6.365580</td>\n      <td>0.902791</td>\n      <td>0.761637</td>\n      <td>1.910836</td>\n      <td>0.973216</td>\n    </tr>\n  </tbody>\n</table>\n<p>10069 rows × 9 columns</p>\n</div>"
     },
     "metadata": {},
     "execution_count": 3
    }
   ],
   "source": [
    "merge_data = merge_data.drop(['Unnamed: 0', 'Date.1','Date.2','Date.3'], axis = 1)\n",
    "merge_data"
   ]
  },
  {
   "cell_type": "code",
   "execution_count": 4,
   "metadata": {},
   "outputs": [],
   "source": [
    "path_to_returns_actual = \"returns actual.csv\"\n",
    "returns_actual_df = pd.read_csv(path_to_returns_actual)\n",
    "\n",
    "path_to_returns_prediction =\"returns prediction.csv\"\n",
    "returns_prediction_df =pd.read_csv(path_to_returns_prediction)\n",
    "\n",
    "path_to_volatility_actual=\"volatility actual.csv\"\n",
    "volatility_actual_df =pd.read_csv(path_to_volatility_actual)\n",
    "\n",
    "path_to_volatility_prediction =\"volatility prediction.csv\"\n",
    "volatility_prediction_df=pd.read_csv(path_to_volatility_prediction)\n",
    "\n",
    "merge_data.to_csv('historic_data.csv')"
   ]
  },
  {
   "cell_type": "code",
   "execution_count": 6,
   "metadata": {},
   "outputs": [],
   "source": [
    "# returns_actual_df = returns_actual_df.drop(['Unnamed: 0'], axis = 1)\n",
    "\n",
    "# returns_prediction_df = returns_prediction_df.drop(['Unnamed: 0'], axis = 1)\n",
    "\n",
    "# volatility_actual_df = volatility_actual_df.drop(['Unnamed: 0'], axis = 1)\n",
    "\n",
    "# volatility_prediction_df = volatility_prediction_df.drop(['Unnamed: 0'], axis = 1)\n",
    "\n",
    "# returns_actual_df.to_csv('returns actual.csv')\n",
    "# returns_prediction_df.to_csv('returns prediction.csv')\n",
    "# volatility_actual_df.to_csv('volatility actual.csv')\n",
    "# volatility_prediction_df.to_csv('volatility prediction.csv')"
   ]
  },
  {
   "cell_type": "code",
   "execution_count": 5,
   "metadata": {},
   "outputs": [],
   "source": [
    "# Imports the method used for connecting to DBs\n",
    "from sqlalchemy import  Column, Integer, Unicode, UnicodeText, String\n",
    "from sqlalchemy import create_engine\n",
    "# Imports the methods needed to abstract classes into tables\n",
    "from sqlalchemy.ext.declarative import declarative_base\n",
    "import csv\n",
    "\n",
    "from sqlalchemy.orm import sessionmaker\n",
    "\n",
    "\n",
    "\n",
    "engine = create_engine(\"sqlite:///predictions.sqlite\")\n",
    "\n",
    "Base = declarative_base(bind=engine)\n",
    "\n",
    "class act_ret_db(Base):\n",
    "    __tablename__ = 'return_act'\n",
    "    id = Column(Integer, primary_key=True)\n",
    "    nas_return = Column(Integer)\n",
    "    nik_return = Column(Integer)\n",
    "    gold_return = Column(Integer)\n",
    "    bonds_return = Column(Integer)\n",
    "    average_return = Column(Integer)\n",
    "    day_count = Column(Integer)\n",
    "\n",
    "    def __init__(self, id, nas_return, nik_return, gold_return, bonds_return, average_return, day_count):\n",
    "        self.id = id\n",
    "        self.nas_return = nas_return\n",
    "        self.nik_return = nik_return\n",
    "        self.gold_return = gold_return\n",
    "        self.bonds_return = bonds_return\n",
    "        self.average_return = average_return\n",
    "        self.day_count = day_count \n",
    "\n",
    "Base.metadata.create_all()\n",
    "\n",
    "\n",
    "\n",
    "actual_returns = []\n",
    "\n",
    "with open(path_to_returns_actual, 'r') as f:    \n",
    "    reader = csv.reader(f)\n",
    "    for row in reader: \n",
    "        actual_returns.append(act_ret_db(row[0], row[1], row[2:], row[3:], row[4:], row[5:], row[6:]))"
   ]
  },
  {
   "cell_type": "code",
   "execution_count": 9,
   "metadata": {},
   "outputs": [
    {
     "output_type": "execute_result",
     "data": {
      "text/plain": [
       "['return_act']"
      ]
     },
     "metadata": {},
     "execution_count": 9
    }
   ],
   "source": [
    "# Dependencies\n",
    "# ----------------------------------\n",
    "# Imports the method used for connecting to DBs\n",
    "from sqlalchemy import create_engine\n",
    "\n",
    "# Imports the methods needed to abstract classes into tables\n",
    "from sqlalchemy.ext.automap import automap_base\n",
    "\n",
    "# Allow us to declare column types\n",
    "from sqlalchemy import Column, Integer, String, Float \n",
    "\n",
    "Base = automap_base()\n",
    "Base.prepare(engine, reflect=True)\n",
    "Base.classes.keys()"
   ]
  },
  {
   "cell_type": "code",
   "execution_count": 12,
   "metadata": {},
   "outputs": [
    {
     "output_type": "error",
     "ename": "NameError",
     "evalue": "name 'automap_base' is not defined",
     "traceback": [
      "\u001b[1;31m---------------------------------------------------------------------------\u001b[0m",
      "\u001b[1;31mNameError\u001b[0m                                 Traceback (most recent call last)",
      "\u001b[1;32m<ipython-input-12-72810568585d>\u001b[0m in \u001b[0;36m<module>\u001b[1;34m\u001b[0m\n\u001b[0;32m     22\u001b[0m \u001b[1;33m\u001b[0m\u001b[0m\n\u001b[0;32m     23\u001b[0m \u001b[1;31m# metadata.create_all(engine)\u001b[0m\u001b[1;33m\u001b[0m\u001b[1;33m\u001b[0m\u001b[1;33m\u001b[0m\u001b[0m\n\u001b[1;32m---> 24\u001b[1;33m \u001b[0mBase\u001b[0m \u001b[1;33m=\u001b[0m \u001b[0mautomap_base\u001b[0m\u001b[1;33m(\u001b[0m\u001b[1;33m)\u001b[0m\u001b[1;33m\u001b[0m\u001b[1;33m\u001b[0m\u001b[0m\n\u001b[0m\u001b[0;32m     25\u001b[0m \u001b[0mBase\u001b[0m\u001b[1;33m.\u001b[0m\u001b[0mprepare\u001b[0m\u001b[1;33m(\u001b[0m\u001b[0mengine\u001b[0m\u001b[1;33m,\u001b[0m \u001b[0mreflect\u001b[0m\u001b[1;33m=\u001b[0m\u001b[1;32mTrue\u001b[0m\u001b[1;33m)\u001b[0m\u001b[1;33m\u001b[0m\u001b[1;33m\u001b[0m\u001b[0m\n\u001b[0;32m     26\u001b[0m \u001b[0mBase\u001b[0m\u001b[1;33m.\u001b[0m\u001b[0mclasses\u001b[0m\u001b[1;33m.\u001b[0m\u001b[0mkeys\u001b[0m\u001b[1;33m(\u001b[0m\u001b[1;33m)\u001b[0m\u001b[1;33m\u001b[0m\u001b[1;33m\u001b[0m\u001b[0m\n",
      "\u001b[1;31mNameError\u001b[0m: name 'automap_base' is not defined"
     ]
    }
   ],
   "source": [
    "\n",
    "# Base = declarative_base()\n",
    "\n",
    "# class act_ret_db(Base):\n",
    "#     __tablename__ = 'return_act'\n",
    "#     id = Column(Integer, primary_key=True)\n",
    "#     nas_return = Column(Integer)\n",
    "#     nik_return = Column(Integer)\n",
    "#     gold_return = Column(Integer)\n",
    "#     bonds_return = Column(Integer)\n",
    "#     average_return = Column(Integer)\n",
    "#     day_count = Column(Integer)\n",
    "\n",
    "# employees = Table('return_act', \n",
    "# metadata,\n",
    "# Column('id', Integer()), \n",
    "# Column('nas_return', Integer()),\n",
    "# Column('nik_return',Integer()),\n",
    "# Column('gold_return',Integer()),\n",
    "# Column('bonds_return',Integer()),\n",
    "# Column('average_return',Integer()),\n",
    "# Column('day_count',Integer()))\n",
    "\n",
    "# metadata.create_all(engine)\n",
    "Base = automap_base()\n",
    "Base.prepare(engine, reflect=True)\n",
    "Base.classes.keys()"
   ]
  },
  {
   "cell_type": "code",
   "execution_count": 8,
   "metadata": {},
   "outputs": [],
   "source": []
  },
  {
   "cell_type": "code",
   "execution_count": 15,
   "metadata": {},
   "outputs": [
    {
     "output_type": "error",
     "ename": "AttributeError",
     "evalue": "type object 'Base' has no attribute 'prepare'",
     "traceback": [
      "\u001b[1;31m---------------------------------------------------------------------------\u001b[0m",
      "\u001b[1;31mAttributeError\u001b[0m                            Traceback (most recent call last)",
      "\u001b[1;32m<ipython-input-15-263c783d91c2>\u001b[0m in \u001b[0;36m<module>\u001b[1;34m\u001b[0m\n\u001b[0;32m      1\u001b[0m \u001b[1;32mfrom\u001b[0m \u001b[0msqlalchemy\u001b[0m\u001b[1;33m.\u001b[0m\u001b[0mext\u001b[0m\u001b[1;33m.\u001b[0m\u001b[0mautomap\u001b[0m \u001b[1;32mimport\u001b[0m \u001b[0mautomap_base\u001b[0m\u001b[1;33m\u001b[0m\u001b[1;33m\u001b[0m\u001b[0m\n\u001b[1;32m----> 2\u001b[1;33m \u001b[0mBase\u001b[0m\u001b[1;33m.\u001b[0m\u001b[0mprepare\u001b[0m\u001b[1;33m(\u001b[0m\u001b[0mengine\u001b[0m\u001b[1;33m,\u001b[0m \u001b[0mreflect\u001b[0m\u001b[1;33m=\u001b[0m\u001b[1;32mTrue\u001b[0m\u001b[1;33m)\u001b[0m\u001b[1;33m\u001b[0m\u001b[1;33m\u001b[0m\u001b[0m\n\u001b[0m\u001b[0;32m      3\u001b[0m \u001b[0mBase\u001b[0m\u001b[1;33m.\u001b[0m\u001b[0mclasses\u001b[0m\u001b[1;33m.\u001b[0m\u001b[0mkeys\u001b[0m\u001b[1;33m(\u001b[0m\u001b[1;33m)\u001b[0m\u001b[1;33m\u001b[0m\u001b[1;33m\u001b[0m\u001b[0m\n",
      "\u001b[1;31mAttributeError\u001b[0m: type object 'Base' has no attribute 'prepare'"
     ]
    }
   ],
   "source": [
    "from sqlalchemy.ext.automap import automap_base\n",
    "Base.prepare(engine, reflect=True)\n",
    "Base.classes.keys()"
   ]
  },
  {
   "cell_type": "code",
   "execution_count": 25,
   "metadata": {},
   "outputs": [
    {
     "output_type": "error",
     "ename": "NameError",
     "evalue": "name 'ret' is not defined",
     "traceback": [
      "\u001b[1;31m---------------------------------------------------------------------------\u001b[0m",
      "\u001b[1;31mNameError\u001b[0m                                 Traceback (most recent call last)",
      "\u001b[1;32m<ipython-input-25-83b8044920a6>\u001b[0m in \u001b[0;36m<module>\u001b[1;34m\u001b[0m\n\u001b[0;32m      7\u001b[0m \u001b[1;31m# ----------------------------------\u001b[0m\u001b[1;33m\u001b[0m\u001b[1;33m\u001b[0m\u001b[1;33m\u001b[0m\u001b[0m\n\u001b[0;32m      8\u001b[0m \u001b[1;31m# Base.metadata.drop_all(engine)\u001b[0m\u001b[1;33m\u001b[0m\u001b[1;33m\u001b[0m\u001b[1;33m\u001b[0m\u001b[0m\n\u001b[1;32m----> 9\u001b[1;33m \u001b[0mret\u001b[0m\u001b[1;33m\u001b[0m\u001b[1;33m\u001b[0m\u001b[0m\n\u001b[0m",
      "\u001b[1;31mNameError\u001b[0m: name 'ret' is not defined"
     ]
    }
   ],
   "source": [
    "# Create a \"Metadata\" Layer That Abstracts our SQL Database\n",
    "# ----------------------------------\n",
    "# Create (if not already in existence) the tables associated with our classes.\n",
    "Base.metadata.create_all(engine)\n",
    "\n",
    "# Use this to clear out the db\n",
    "# ----------------------------------\n",
    "# Base.metadata.drop_all(engine)\n"
   ]
  },
  {
   "cell_type": "code",
   "execution_count": 11,
   "metadata": {},
   "outputs": [],
   "source": [
    "# Create a Session Object to Connect to DB\n",
    "# ----------------------------------\n",
    "# Session is a temporary binding to our DB\n",
    "from sqlalchemy.orm import Session\n",
    "session = Session(bind=engine)"
   ]
  },
  {
   "cell_type": "code",
   "execution_count": null,
   "metadata": {},
   "outputs": [],
   "source": []
  },
  {
   "cell_type": "code",
   "execution_count": 14,
   "metadata": {},
   "outputs": [
    {
     "output_type": "error",
     "ename": "UnmappedInstanceError",
     "evalue": "Class 'numpy.ndarray' is not mapped",
     "traceback": [
      "\u001b[1;31m---------------------------------------------------------------------------\u001b[0m",
      "\u001b[1;31mAttributeError\u001b[0m                            Traceback (most recent call last)",
      "\u001b[1;32mC:\\ProgramData\\Anaconda3\\envs\\class_31\\lib\\site-packages\\sqlalchemy\\orm\\session.py\u001b[0m in \u001b[0;36madd\u001b[1;34m(self, instance, _warn)\u001b[0m\n\u001b[0;32m   2011\u001b[0m         \u001b[1;32mtry\u001b[0m\u001b[1;33m:\u001b[0m\u001b[1;33m\u001b[0m\u001b[1;33m\u001b[0m\u001b[0m\n\u001b[1;32m-> 2012\u001b[1;33m             \u001b[0mstate\u001b[0m \u001b[1;33m=\u001b[0m \u001b[0mattributes\u001b[0m\u001b[1;33m.\u001b[0m\u001b[0minstance_state\u001b[0m\u001b[1;33m(\u001b[0m\u001b[0minstance\u001b[0m\u001b[1;33m)\u001b[0m\u001b[1;33m\u001b[0m\u001b[1;33m\u001b[0m\u001b[0m\n\u001b[0m\u001b[0;32m   2013\u001b[0m         \u001b[1;32mexcept\u001b[0m \u001b[0mexc\u001b[0m\u001b[1;33m.\u001b[0m\u001b[0mNO_STATE\u001b[0m \u001b[1;32mas\u001b[0m \u001b[0merr\u001b[0m\u001b[1;33m:\u001b[0m\u001b[1;33m\u001b[0m\u001b[1;33m\u001b[0m\u001b[0m\n",
      "\u001b[1;31mAttributeError\u001b[0m: 'numpy.ndarray' object has no attribute '_sa_instance_state'",
      "\nThe above exception was the direct cause of the following exception:\n",
      "\u001b[1;31mUnmappedInstanceError\u001b[0m                     Traceback (most recent call last)",
      "\u001b[1;32m<ipython-input-14-1829be51e559>\u001b[0m in \u001b[0;36m<module>\u001b[1;34m\u001b[0m\n\u001b[0;32m      2\u001b[0m \u001b[1;31m# ----------------------------------\u001b[0m\u001b[1;33m\u001b[0m\u001b[1;33m\u001b[0m\u001b[1;33m\u001b[0m\u001b[0m\n\u001b[0;32m      3\u001b[0m \u001b[1;31m# Use the SQL ALchemy methods to run simple \"INSERT\" statements using the classes and objects\u001b[0m\u001b[1;33m\u001b[0m\u001b[1;33m\u001b[0m\u001b[1;33m\u001b[0m\u001b[0m\n\u001b[1;32m----> 4\u001b[1;33m \u001b[0msession\u001b[0m\u001b[1;33m.\u001b[0m\u001b[0madd\u001b[0m\u001b[1;33m(\u001b[0m\u001b[0mreturns\u001b[0m\u001b[1;33m)\u001b[0m\u001b[1;33m\u001b[0m\u001b[1;33m\u001b[0m\u001b[0m\n\u001b[0m\u001b[0;32m      5\u001b[0m \u001b[0msession\u001b[0m\u001b[1;33m.\u001b[0m\u001b[0mcommit\u001b[0m\u001b[1;33m(\u001b[0m\u001b[1;33m)\u001b[0m\u001b[1;33m\u001b[0m\u001b[1;33m\u001b[0m\u001b[0m\n",
      "\u001b[1;32mC:\\ProgramData\\Anaconda3\\envs\\class_31\\lib\\site-packages\\sqlalchemy\\orm\\session.py\u001b[0m in \u001b[0;36madd\u001b[1;34m(self, instance, _warn)\u001b[0m\n\u001b[0;32m   2014\u001b[0m             util.raise_(\n\u001b[0;32m   2015\u001b[0m                 \u001b[0mexc\u001b[0m\u001b[1;33m.\u001b[0m\u001b[0mUnmappedInstanceError\u001b[0m\u001b[1;33m(\u001b[0m\u001b[0minstance\u001b[0m\u001b[1;33m)\u001b[0m\u001b[1;33m,\u001b[0m\u001b[1;33m\u001b[0m\u001b[1;33m\u001b[0m\u001b[0m\n\u001b[1;32m-> 2016\u001b[1;33m                 \u001b[0mreplace_context\u001b[0m\u001b[1;33m=\u001b[0m\u001b[0merr\u001b[0m\u001b[1;33m,\u001b[0m\u001b[1;33m\u001b[0m\u001b[1;33m\u001b[0m\u001b[0m\n\u001b[0m\u001b[0;32m   2017\u001b[0m             )\n\u001b[0;32m   2018\u001b[0m \u001b[1;33m\u001b[0m\u001b[0m\n",
      "\u001b[1;32mC:\\ProgramData\\Anaconda3\\envs\\class_31\\lib\\site-packages\\sqlalchemy\\util\\compat.py\u001b[0m in \u001b[0;36mraise_\u001b[1;34m(***failed resolving arguments***)\u001b[0m\n\u001b[0;32m    180\u001b[0m \u001b[1;33m\u001b[0m\u001b[0m\n\u001b[0;32m    181\u001b[0m         \u001b[1;32mtry\u001b[0m\u001b[1;33m:\u001b[0m\u001b[1;33m\u001b[0m\u001b[1;33m\u001b[0m\u001b[0m\n\u001b[1;32m--> 182\u001b[1;33m             \u001b[1;32mraise\u001b[0m \u001b[0mexception\u001b[0m\u001b[1;33m\u001b[0m\u001b[1;33m\u001b[0m\u001b[0m\n\u001b[0m\u001b[0;32m    183\u001b[0m         \u001b[1;32mfinally\u001b[0m\u001b[1;33m:\u001b[0m\u001b[1;33m\u001b[0m\u001b[1;33m\u001b[0m\u001b[0m\n\u001b[0;32m    184\u001b[0m             \u001b[1;31m# credit to\u001b[0m\u001b[1;33m\u001b[0m\u001b[1;33m\u001b[0m\u001b[1;33m\u001b[0m\u001b[0m\n",
      "\u001b[1;31mUnmappedInstanceError\u001b[0m: Class 'numpy.ndarray' is not mapped"
     ]
    }
   ],
   "source": []
  },
  {
   "cell_type": "code",
   "execution_count": 8,
   "metadata": {},
   "outputs": [],
   "source": [
    "# import json\n",
    "# returns_actual_df.columns = ['id', 'nas_return' ,'nik_return' ,'gold_return','bonds_return','average_return','day_count']\n",
    "\n",
    "# actual_returns = returns_actual_df.to_sql(\"return_act\",con=conn,if_exists=\"replace\",index=False)\n",
    "# actual_returns = actual_returns.to_json()\n",
    "returns_actual_df.to_sql(\"return_act\",engine,if_exists=\"replace\")\n",
    "\n",
    "returns_prediction_df.to_sql(\"return_pre\",engine,if_exists=\"replace\")\n",
    "\n",
    "volatility_actual_df.to_sql(\"vol_act\",engine,if_exists=\"replace\")\n",
    "\n",
    "volatility_prediction_df.to_sql(\"vol_pre\",engine,if_exists=\"replace\")\n",
    "\n",
    "merge_data.to_sql(\"historic_data\",engine,if_exists=\"replace\")"
   ]
  },
  {
   "cell_type": "code",
   "execution_count": 19,
   "metadata": {},
   "outputs": [],
   "source": [
    "\n"
   ]
  },
  {
   "cell_type": "code",
   "execution_count": 26,
   "metadata": {},
   "outputs": [
    {
     "output_type": "execute_result",
     "data": {
      "text/plain": [
       "<sqlalchemy.sql.selectable.Select at 0x27889e52f88; Select object>"
      ]
     },
     "metadata": {},
     "execution_count": 26
    }
   ],
   "source": [
    "from sqlalchemy import create_engine,MetaData, Table, Column\n",
    "from sqlalchemy.ext.automap import automap_base\n",
    "\n",
    "metadata = MetaData()\n",
    "Base = automap_base()\n",
    "# metadata.reflect(engine, only =['return_act'])\n",
    "\n",
    "# Table('return_act', metadata,\n",
    "#     Column('id', Integer()), \n",
    "#     Column('nas_return', Integer()),\n",
    "#     Column('nik_return',Integer()),\n",
    "#     Column('gold_return',Integer()),\n",
    "#     Column('bonds_return',Integer()),\n",
    "#     Column('average_return',Integer()),\n",
    "#     Column('day_count',Integer())\n",
    "# )\n",
    "\n",
    "class act_ret_db(Base):\n",
    "    __tablename__ = 'return_act'\n",
    "    id = Column(Integer, primary_key=True)\n",
    "    nas_return = Column(Integer)\n",
    "    nik_return = Column(Integer)\n",
    "    gold_return = Column(Integer)\n",
    "    bonds_return = Column(Integer)\n",
    "    average_return = Column(Integer)\n",
    "    day_count = Column(Integer)\n",
    "\n",
    "address_collection = relationship(\"address\", collection_class=set)\n",
    "\n",
    "return_act = Table('return_act', metadata, autoload=True, autoload_with=engine)\n",
    "insert_query = return_act.select()\n",
    "metadata.create_all(engine)\n",
    "# insert_query = return_act.insert()\n",
    "insert_query"
   ]
  },
  {
   "cell_type": "code",
   "execution_count": 17,
   "metadata": {},
   "outputs": [
    {
     "output_type": "execute_result",
     "data": {
      "text/plain": [
       "dict_keys(['return_act'])"
      ]
     },
     "metadata": {},
     "execution_count": 17
    }
   ],
   "source": [
    "\n",
    "Base = automap_base(metadata=metadata)\n",
    "Base.prepare()\n",
    "metadata.tables.keys()\n"
   ]
  },
  {
   "cell_type": "code",
   "execution_count": 12,
   "metadata": {},
   "outputs": [
    {
     "output_type": "error",
     "ename": "AttributeError",
     "evalue": "'immutabledict' object has no attribute 'return_Act'",
     "traceback": [
      "\u001b[1;31m---------------------------------------------------------------------------\u001b[0m",
      "\u001b[1;31mAttributeError\u001b[0m                            Traceback (most recent call last)",
      "\u001b[1;32m<ipython-input-12-dd6eda03d4b8>\u001b[0m in \u001b[0;36m<module>\u001b[1;34m\u001b[0m\n\u001b[1;32m----> 1\u001b[1;33m \u001b[0mmetadata\u001b[0m\u001b[1;33m.\u001b[0m\u001b[0mtables\u001b[0m\u001b[1;33m.\u001b[0m\u001b[0mreturn_Act\u001b[0m\u001b[1;33m\u001b[0m\u001b[1;33m\u001b[0m\u001b[0m\n\u001b[0m",
      "\u001b[1;31mAttributeError\u001b[0m: 'immutabledict' object has no attribute 'return_Act'"
     ]
    }
   ],
   "source": [
    "metadata.tables.return_Act"
   ]
  },
  {
   "cell_type": "code",
   "execution_count": 25,
   "metadata": {},
   "outputs": [],
   "source": [
    " # Dependencies\n",
    "# ----------------------------------\n",
    "# Imports the method used for connecting to DBs\n",
    "from sqlalchemy import create_engine\n",
    "\n",
    "# Imports the methods needed to abstract classes into tables\n",
    "from sqlalchemy.ext.declarative import declarative_base\n",
    "\n",
    "# Allow us to declare column types\n",
    "from sqlalchemy import Column, Integer, String, Float \n",
    "# Create Dog and Cat Classes\n",
    "# ----------------------------------\n",
    "\n",
    "# Sets an object to utilize the default declarative base in SQL Alchemy\n",
    "Base = declarative_base()\n",
    "\n",
    "\n",
    "# Creates Classes which will serve as the anchor points for our Tables\n",
    "class Dog(Base):\n",
    "    __tablename__ = 'dog'\n",
    "    id = Column(Integer, primary_key=True)\n",
    "    name = Column(String(255))\n",
    "    color = Column(String(255))\n",
    "    age = Column(Integer)\n",
    "\n",
    "\n",
    "class Cat(Base):\n",
    "    __tablename__ = 'cat'\n",
    "    id = Column(Integer, primary_key=True)\n",
    "    name = Column(String(255))\n",
    "    color = Column(String(255))\n",
    "    age = Column(Integer)"
   ]
  },
  {
   "cell_type": "code",
   "execution_count": 26,
   "metadata": {},
   "outputs": [],
   "source": [
    "# Create a Specific Instance of the Dog and Cat classes\n",
    "# ----------------------------------\n",
    "\n",
    "# Calls the Pet Constructors to create \"Dog\" and \"Cat\" objets\n",
    "dog = Dog(name='Rex', color='Brown', age=4)\n",
    "cat = Cat(name=\"Felix\", color=\"Gray\", age=7)"
   ]
  },
  {
   "cell_type": "code",
   "execution_count": 27,
   "metadata": {},
   "outputs": [
    {
     "output_type": "stream",
     "text": [
      "\u001b[1;31mType:\u001b[0m            Dog\n",
      "\u001b[1;31mString form:\u001b[0m     <__main__.Dog object at 0x000001F9DF684688>\n",
      "\u001b[1;31mDocstring:\u001b[0m       <no docstring>\n",
      "\u001b[1;31mClass docstring:\u001b[0m The most base type\n",
      "\u001b[1;31mInit docstring:\u001b[0m \n",
      "A simple constructor that allows initialization from kwargs.\n",
      "\n",
      "Sets attributes on the constructed instance using the names and\n",
      "values in ``kwargs``.\n",
      "\n",
      "Only keys that are present as\n",
      "attributes of the instance's class are allowed. These could be,\n",
      "for example, any mapped columns or relationships.\n"
     ],
     "name": "stdout"
    }
   ],
   "source": [
    "?dog"
   ]
  },
  {
   "cell_type": "code",
   "execution_count": null,
   "metadata": {},
   "outputs": [],
   "source": []
  }
 ]
}