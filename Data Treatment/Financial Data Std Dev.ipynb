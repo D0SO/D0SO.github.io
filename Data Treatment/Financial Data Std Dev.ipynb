{
 "metadata": {
  "language_info": {
   "codemirror_mode": {
    "name": "ipython",
    "version": 3
   },
   "file_extension": ".py",
   "mimetype": "text/x-python",
   "name": "python",
   "nbconvert_exporter": "python",
   "pygments_lexer": "ipython3",
   "version": "3.8.3-final"
  },
  "orig_nbformat": 2,
  "kernelspec": {
   "name": "python3",
   "display_name": "Python 3.8.3 64-bit (conda)",
   "metadata": {
    "interpreter": {
     "hash": "ccb7b26840b825c8924d4cfe054c3e169b8f58795accc090394d62bc14660e70"
    }
   }
  }
 },
 "nbformat": 4,
 "nbformat_minor": 2,
 "cells": [
  {
   "cell_type": "code",
   "execution_count": 1,
   "metadata": {},
   "outputs": [],
   "source": [
    "# Create depandencies\r\n",
    "import pandas as pd\r\n"
   ]
  },
  {
   "cell_type": "code",
   "execution_count": 2,
   "metadata": {},
   "outputs": [],
   "source": [
    "# Create data frames from existing csv files\n",
    "\n",
    "Gold_std_df = pd.read_csv('Gold (daily returns).csv')\n",
    "Bonds_std_df = pd.read_csv('Bonds (daily returns).csv')\n",
    "Nasdaq_std_df = pd.read_csv('Nasdaq (daily returns).csv')\n",
    "Nikkei_std_df = pd.read_csv('Nikkei (daily returns).csv')\n"
   ]
  },
  {
   "cell_type": "code",
   "execution_count": 3,
   "metadata": {},
   "outputs": [],
   "source": [
    "# Add a column and calculate rolling standard deviation on returns for each dataframe\n",
    "# (Rolling average 50 days => .rolling(50) <= maybe changed later)\n",
    "\n",
    "Gold_std_df['GOL_Returns_Rolling_Std'] = Gold_std_df['XAU_USD'].rolling(50).std()\n",
    "Bonds_std_df['BON_Returns_Rolling_Std'] = Bonds_std_df['Bonds_10year'].rolling(50).std()\n",
    "Nasdaq_std_df['NAS_Returns_Rolling_Std'] = Nasdaq_std_df['NASDAQ_100'].rolling(50).std()\n",
    "Nikkei_std_df['NIK_Returns_Rolling_Std'] = Nikkei_std_df['NIKKEI_225'].rolling(50).std()\n",
    "\n",
    "# Gold_std_df\n"
   ]
  },
  {
   "cell_type": "code",
   "execution_count": 4,
   "metadata": {},
   "outputs": [],
   "source": [
    "# Merge all data frames into one\n",
    "Merge_std_df = pd.concat([Gold_std_df,Bonds_std_df,Nasdaq_std_df,Nikkei_std_df], axis=1)\n",
    "\n",
    "# Merge_Std_df\n"
   ]
  },
  {
   "cell_type": "code",
   "execution_count": 5,
   "metadata": {},
   "outputs": [],
   "source": [
    "#Save dataframes into csv files\n",
    "\n",
    "Gold_std_df.to_csv(\"Gold Std.csv\")\n",
    "Bonds_std_df.to_csv(\"Bonds Std.csv\")\n",
    "Nasdaq_std_df.to_csv(\"Nasdaq Std.csv\")\n",
    "Nikkei_std_df.to_csv(\"Nikkei Std.csv\")\n",
    "Merge_std_df.to_csv(\"Merge Std.csv\")\n"
   ]
  },
  {
   "cell_type": "code",
   "execution_count": null,
   "metadata": {},
   "outputs": [],
   "source": []
  }
 ]
}